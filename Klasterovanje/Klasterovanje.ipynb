{
 "cells": [
  {
   "cell_type": "code",
   "execution_count": 1,
   "id": "aware-hormone",
   "metadata": {},
   "outputs": [],
   "source": [
    "import sys\n",
    "import pkg_resources\n",
    "\n",
    "import numpy as np\n",
    "import pandas as pd\n",
    "import scipy as sp\n",
    "import sklearn as skl"
   ]
  },
  {
   "cell_type": "code",
   "execution_count": 2,
   "id": "abroad-power",
   "metadata": {},
   "outputs": [
    {
     "name": "stdout",
     "output_type": "stream",
     "text": [
      "python ==sys.version_info(major=3, minor=5, micro=5, releaselevel='final', serial=0)\n",
      "numpy == 1.16.2\n",
      "pandas == 0.24.2\n",
      "scipy == 1.2.1\n",
      "scikit-learn == 0.20.3\n"
     ]
    }
   ],
   "source": [
    "#PROVJERA DAL JE INSTALIRANO SVE DOBRO\\n\",\n",
    "print(\"python ==\" + str(sys.version_info) +\n",
    "      \"\\nnumpy == \" + pkg_resources.get_distribution(\"numpy\").version +\n",
    "      \"\\npandas == \" + pkg_resources.get_distribution(\"pandas\").version +\n",
    "      \"\\nscipy == \" + pkg_resources.get_distribution(\"scipy\").version +\n",
    "      \"\\nscikit-learn == \" + pkg_resources.get_distribution(\"scikit-learn\").version)"
   ]
  },
  {
   "cell_type": "code",
   "execution_count": null,
   "id": "dying-coast",
   "metadata": {},
   "outputs": [],
   "source": []
  }
 ],
 "metadata": {
  "kernelspec": {
   "display_name": "Klasterovanje",
   "language": "python",
   "name": "klasterovanje"
  },
  "language_info": {
   "codemirror_mode": {
    "name": "ipython",
    "version": 3
   },
   "file_extension": ".py",
   "mimetype": "text/x-python",
   "name": "python",
   "nbconvert_exporter": "python",
   "pygments_lexer": "ipython3",
   "version": "3.5.5"
  }
 },
 "nbformat": 4,
 "nbformat_minor": 5
}
