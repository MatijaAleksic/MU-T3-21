{
 "cells": [
  {
   "cell_type": "code",
   "execution_count": 94,
   "id": "aware-hormone",
   "metadata": {},
   "outputs": [],
   "source": [
    "import sys\n",
    "import pkg_resources\n",
    "\n",
    "import numpy as np\n",
    "import pandas as pd\n",
    "import scipy as sp\n",
    "import sklearn as skl\n",
    "\n",
    "#za prikaz podataka\n",
    "import matplotlib.pyplot as plt\n",
    "import seaborn as sns\n",
    "\n",
    "#from sklearn.preprocessing import StandardScaler\n",
    "#from sklearn.cluster import KMeans\n",
    "#from sklearn.metrics import silhouette_score\n",
    "\n",
    "from sklearn.metrics import v_measure_score\n",
    "from sklearn.mixture import GaussianMixture\n",
    "\n",
    "%matplotlib inline"
   ]
  },
  {
   "cell_type": "code",
   "execution_count": 95,
   "id": "abroad-power",
   "metadata": {},
   "outputs": [
    {
     "name": "stdout",
     "output_type": "stream",
     "text": [
      "python ==sys.version_info(major=3, minor=5, micro=5, releaselevel='final', serial=0)\n",
      "numpy == 1.16.2\n",
      "pandas == 0.24.2\n",
      "scipy == 1.2.1\n",
      "scikit-learn == 0.20.3\n"
     ]
    }
   ],
   "source": [
    "#PROVJERA DAL JE INSTALIRANO SVE DOBRO\\n\",\n",
    "print(\"python ==\" + str(sys.version_info) +\n",
    "      \"\\nnumpy == \" + pkg_resources.get_distribution(\"numpy\").version +\n",
    "      \"\\npandas == \" + pkg_resources.get_distribution(\"pandas\").version +\n",
    "      \"\\nscipy == \" + pkg_resources.get_distribution(\"scipy\").version +\n",
    "      \"\\nscikit-learn == \" + pkg_resources.get_distribution(\"scikit-learn\").version)"
   ]
  },
  {
   "cell_type": "code",
   "execution_count": 96,
   "id": "instant-occurrence",
   "metadata": {},
   "outputs": [
    {
     "data": {
      "text/plain": [
       "array([3, 1, 3, 3, 3, 0, 0, 3, 3, 1, 1, 3, 2, 1, 0, 1, 3, 3, 3, 0, 2, 0,\n",
       "       0, 3, 2, 1, 3, 3, 2, 1, 0, 3, 2, 1, 0, 3, 3, 3, 3, 3, 2, 0, 0, 3,\n",
       "       3, 0, 0, 1, 1, 0, 3, 3, 2, 0, 0, 3, 2, 0, 1, 3, 2, 0, 0, 3, 2, 3,\n",
       "       3, 3, 3, 0, 0, 1, 3, 0, 1, 3, 2, 3, 3, 3, 2, 0, 0, 3, 3, 3, 1, 3,\n",
       "       3, 0, 0, 2, 3, 3, 1, 3, 2, 1, 0, 3, 3, 1, 0, 3, 3, 0, 0, 0, 2, 1,\n",
       "       3, 3, 2, 1, 0, 3, 2, 2, 0, 0, 2, 2, 3, 0, 0, 2, 0, 3, 3, 2, 3, 0,\n",
       "       3, 1, 0, 0, 3, 3, 0, 3, 3, 2, 0, 3, 3, 2, 3, 3, 3, 1, 1, 3, 3, 3,\n",
       "       0, 0, 0, 1, 0, 0, 3, 2, 1, 1, 3, 1, 0, 1, 3, 1, 3, 0, 1, 3, 0, 3,\n",
       "       3, 1, 0, 1, 3, 2, 0, 3, 3, 2, 0, 0, 3, 2, 0, 0, 0, 2, 0, 3, 3, 3,\n",
       "       0, 3, 3, 2, 3, 3, 1, 3, 0, 0, 3, 2, 0, 0, 1, 3, 0, 3, 3, 2, 0, 3,\n",
       "       3, 3, 0, 0, 3, 2, 0, 3, 1, 1, 0, 3, 3, 2, 0, 3, 3, 1, 0, 0, 3, 1,\n",
       "       0, 3, 3, 1, 0, 3, 1, 2, 0, 0, 3, 2, 0, 0, 3, 2], dtype=int64)"
      ]
     },
     "execution_count": 96,
     "metadata": {},
     "output_type": "execute_result"
    }
   ],
   "source": [
    "#iscitavanje fajla\n",
    "df = pd.read_csv(\"train.csv\")\n",
    "\n",
    "#data se sastoji samo iz d1,d2,d3,d4,d5 kolona\n",
    "features = [\"d1\",\"d2\",\"d3\",\"d4\",\"d5\"]\n",
    "data = df[features]\n",
    "\n",
    "#true_labes da bi se izracunao m-mean score\n",
    "true_labels = df['level']\n",
    "\n",
    "#inicijalizacija i fitovanje EM Gausian Mixture\n",
    "EM = GaussianMixture(n_components = 4)\n",
    "EM.fit(data)\n",
    "\n",
    "#predikcija kojem klasteru pripada koji element\n",
    "cluster = EM.predict(data)\n",
    "cluster"
   ]
  },
  {
   "cell_type": "code",
   "execution_count": 97,
   "id": "rotary-ratio",
   "metadata": {},
   "outputs": [
    {
     "data": {
      "text/plain": [
       "0.5198444714218945"
      ]
     },
     "execution_count": 97,
     "metadata": {},
     "output_type": "execute_result"
    }
   ],
   "source": [
    "#true_labels\n",
    "#silhouette_score(data,cluster)\n",
    "v_measure_score(true_labels,cluster)"
   ]
  },
  {
   "cell_type": "code",
   "execution_count": 98,
   "id": "surprised-niagara",
   "metadata": {},
   "outputs": [
    {
     "data": {
      "text/plain": [
       "array([[1.13384167e-18, 7.08475428e-54, 1.30933536e-23, 1.00000000e+00],\n",
       "       [1.79317553e-03, 9.98206824e-01, 1.35921236e-34, 3.78969509e-10],\n",
       "       [1.93488893e-03, 5.78254154e-19, 7.50202279e-17, 9.98065111e-01],\n",
       "       ...,\n",
       "       [9.99806428e-01, 1.92271176e-04, 7.29832376e-22, 1.30053346e-06],\n",
       "       [3.58232685e-05, 2.90215828e-29, 4.56520596e-02, 9.54312117e-01],\n",
       "       [5.40242632e-13, 1.66480766e-04, 9.99831863e-01, 1.65581457e-06]])"
      ]
     },
     "execution_count": 98,
     "metadata": {},
     "output_type": "execute_result"
    }
   ],
   "source": [
    "#ako treba probablisticki koliki su procenti da pripada kojem klasteru\n",
    "EM.predict_proba(data)"
   ]
  },
  {
   "cell_type": "code",
   "execution_count": 99,
   "id": "dominant-directive",
   "metadata": {},
   "outputs": [
    {
     "data": {
      "text/plain": [
       "<matplotlib.collections.PathCollection at 0x1ce18e49668>"
      ]
     },
     "execution_count": 99,
     "metadata": {},
     "output_type": "execute_result"
    },
    {
     "data": {
      "image/png": "[encoded data removed]",
      "text/plain": [
       "<Figure size 432x288 with 1 Axes>"
      ]
     },
     "metadata": {
      "needs_background": "light"
     },
     "output_type": "display_data"
    }
   ],
   "source": [
    "data['cluster'] = cluster\n",
    "\n",
    "# define and map colors\n",
    "colors = ['#DF2020', '#81DF20', '#2095DF', \"#EEFF00\"]\n",
    "data['clusters'] = data.cluster.map({0:colors[0], 1:colors[1], 2:colors[2], 3:colors[3]})\n",
    "\n",
    "plt.scatter(data.d1, data.d2, c=data.clusters, alpha = 0.6, s=4)"
   ]
  },
  {
   "cell_type": "code",
   "execution_count": null,
   "id": "scientific-scratch",
   "metadata": {},
   "outputs": [],
   "source": []
  }
 ],
 "metadata": {
  "kernelspec": {
   "display_name": "Klasterovanje",
   "language": "python",
   "name": "klasterovanje"
  },
  "language_info": {
   "codemirror_mode": {
    "name": "ipython",
    "version": 3
   },
   "file_extension": ".py",
   "mimetype": "text/x-python",
   "name": "python",
   "nbconvert_exporter": "python",
   "pygments_lexer": "ipython3",
   "version": "3.5.5"
  }
 },
 "nbformat": 4,
 "nbformat_minor": 5
}
