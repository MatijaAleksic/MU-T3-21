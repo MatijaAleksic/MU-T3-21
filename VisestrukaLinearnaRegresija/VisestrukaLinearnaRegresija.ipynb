{
 "cells": [
  {
   "cell_type": "code",
   "execution_count": 16,
   "id": "signed-label",
   "metadata": {},
   "outputs": [],
   "source": [
    "import numpy as np\n",
    "import pandas as pd\n",
    "import scipy as sp"
   ]
  },
  {
   "cell_type": "code",
   "execution_count": 18,
   "id": "taken-snapshot",
   "metadata": {},
   "outputs": [
    {
     "name": "stdout",
     "output_type": "stream",
     "text": [
      "python ==sys.version_info(major=3, minor=5, micro=5, releaselevel='final', serial=0)\n",
      "numpy == 1.16.2\n",
      "pandas == 0.24.2\n",
      "scipy == 1.2.1\n"
     ]
    }
   ],
   "source": [
    "import pkg_resources\n",
    "import sys\n",
    "\n",
    "print(\"python ==\" + str(sys.version_info) +\n",
    "      \"\\nnumpy == \" + pkg_resources.get_distribution(\"numpy\").version +\n",
    "      \"\\npandas == \" + pkg_resources.get_distribution(\"pandas\").version +\n",
    "      \"\\nscipy == \" + pkg_resources.get_distribution(\"scipy\").version)\n"
   ]
  },
  {
   "cell_type": "code",
   "execution_count": null,
   "id": "designed-savannah",
   "metadata": {},
   "outputs": [],
   "source": []
  }
 ],
 "metadata": {
  "kernelspec": {
   "display_name": "VisestrukaLinearnaRegresija",
   "language": "python",
   "name": "visestrukalinearnaregresija"
  },
  "language_info": {
   "codemirror_mode": {
    "name": "ipython",
    "version": 3
   },
   "file_extension": ".py",
   "mimetype": "text/x-python",
   "name": "python",
   "nbconvert_exporter": "python",
   "pygments_lexer": "ipython3",
   "version": "3.5.5"
  }
 },
 "nbformat": 4,
 "nbformat_minor": 5
}
