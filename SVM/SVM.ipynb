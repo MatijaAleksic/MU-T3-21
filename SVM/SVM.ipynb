{
 "cells": [
  {
   "cell_type": "code",
   "execution_count": 1,
   "metadata": {},
   "outputs": [],
   "source": [
    "import numpy as np\n",
    "import pandas as pd\n",
    "import scipy as sp\n",
    "import sklearn as sk\n",
    "import sys\n",
    "\n",
    "from sklearn.metrics import accuracy_score\n",
    "from sklearn.feature_extraction.text import TfidfVectorizer\n",
    "from sklearn.svm import LinearSVC, SVC\n",
    "#from nltk.corpus import stopwords"
   ]
  },
  {
   "cell_type": "code",
   "execution_count": 2,
   "metadata": {},
   "outputs": [],
   "source": [
    "class TextProcessing(object):\n",
    "    def __init__(self,train_set, test_set):\n",
    "        self.train_set = train_set\n",
    "        self.test_set = test_set\n",
    "        \n",
    "    def filter_df(self, df, function):\n",
    "        return df.apply(function)\n",
    "    \n",
    "    def tokenize(self):\n",
    "        def split_words(input_text):\n",
    "            words = input_text.split()\n",
    "            return words\n",
    "        self.train_set = self.filter_df(self.train_set, split_words)\n",
    "        self.test_set = self.filter_df(self.test_set, split_words)        \n",
    "        \n",
    "        #df = pd.read_csv(\"train.tsv\", sep='\\t')\n",
    "        #df['Review'] = df['Review'].str.upper()  #turn to upper case\n",
    "    def uppercase(self):\n",
    "        #def set_to_uppercase(words):\n",
    "        #    transformed_list = [i.upper() for i in words]\n",
    "         #   return transformed_list\n",
    "        #self.train_set = self.filter_df(self.train_set, set_to_uppercase)\n",
    "        #self.test_set = self.filter_df(self.test_set, set_to_uppercase)\n",
    "        def set_to_lowercase(words):\n",
    "            transformed_list = [i.lower() for i in words]\n",
    "            return transformed_list\n",
    "        self.train_set = self.filter_df(self.train_set, set_to_lowercase)\n",
    "        self.test_set = self.filter_df(self.test_set, set_to_lowercase)\n",
    "            \n",
    "        \n",
    "    def remove_other(self):\n",
    "        def remove_junk(words):\n",
    "            transformed_list=[]\n",
    "            for i in words:\n",
    "                i = i.replace('[^\\w\\s]','')\n",
    "                transformed_list.append(i)\n",
    "            return transformed_list    \n",
    "        self.train_set = self.filter_df(self.train_set, remove_junk)\n",
    "        self.test_set = self.filter_df(self.test_set, remove_junk)\n",
    "            \n",
    "        #df['Review'] = df['Review'].str.replace('[^\\w\\s]','')  #remove whitespaces and punctuation\n",
    "        #df.head(20)\n",
    "    \n",
    "        #sabiranje svih reci da se vidi koje se najvise ponavljaju a nemaju nekog znacaja\n",
    "        #df.Review.str.split(expand=True).stack().value_count[:50]  #tokenize\n",
    "\n",
    "    def remove_stop_words(self):\n",
    "        def remove_stopwords(input_text):\n",
    "            stopwords = ['JE','I', 'DA', 'SVE', 'ZA', 'U', 'NA', 'SU', 'SAM', 'SE', 'OD', 'A', 'ALI', 'SA', 'SMO']\n",
    "            transformed_list=[i for i in input_text if i not in stopwords]\n",
    "            return transformed_list\n",
    "        self.train_set = self.filter_df(self.train_set, remove_stopwords)\n",
    "        self.test_set = self.filter_df(self.test_set, remove_stopwords)\n",
    "        \n",
    "    def detokenize(self, dataset):\n",
    "        return dataset.apply(lambda x: ''.join(i + ' ' for i in x))\n",
    "\n",
    "    def pipe(self):\n",
    "        self.tokenize()\n",
    "        self.uppercase()\n",
    "        self.remove_other()\n",
    "        self.remove_stop_words()"
   ]
  },
  {
   "cell_type": "code",
   "execution_count": 3,
   "metadata": {},
   "outputs": [],
   "source": [
    "def read_data(train_data_path, test_data_path):\n",
    "    train = pd.read_csv(\"train.tsv\", sep='\\t')\n",
    "    test = pd.read_csv(\"test_preview.tsv\", sep='\\t')\n",
    "    \n",
    "    X_train, Y_train, X_test, Y_test = train.Review, train.Sentiment, test.Review, test.Sentiment\n",
    "    return X_train, Y_train, X_test, Y_test"
   ]
  },
  {
   "cell_type": "code",
   "execution_count": 4,
   "metadata": {
    "scrolled": true
   },
   "outputs": [
    {
     "name": "stdout",
     "output_type": "stream",
     "text": [
      "1.0\n"
     ]
    }
   ],
   "source": [
    "if __name__ == \"__main__\":\n",
    "    train_data_path = sys.argv[1]\n",
    "    test_data_path = sys.argv[2]\n",
    "    \n",
    "    X_train, Y_train, X_test, Y_test = read_data(train_data_path, test_data_path)\n",
    "    \n",
    "    processed_text = TextProcessing(X_train, X_test)\n",
    "    processed_text.pipe()\n",
    "    \n",
    "    X_train, X_test = processed_text.train_set, processed_text.test_set\n",
    "    X_train = processed_text.detokenize(X_train)\n",
    "    X_test = processed_text.detokenize(X_test)\n",
    "    \n",
    "    #tfid vectorizer\n",
    "    tf_id_vectorizer = TfidfVectorizer(sublinear_tf=True, smooth_idf=False)\n",
    "    train_X =  tf_id_vectorizer.fit_transform(X_train).toarray()\n",
    "    test_X =  tf_id_vectorizer.transform(X_test).toarray()\n",
    "    \n",
    "    linear_SVM = LinearSVC(C=0.325, fit_intercept=False)\n",
    "    linear_SVM.fit(train_X, Y_train)\n",
    "    y_pred = linear_SVM.predict(test_X)\n",
    "\n",
    "    print(accuracy_score(Y_test, y_pred))\n",
    "\n",
    "\n",
    "    \n",
    "    \n",
    "    \n",
    "    "
   ]
  },
  {
   "cell_type": "code",
   "execution_count": null,
   "metadata": {},
   "outputs": [],
   "source": []
  }
 ],
 "metadata": {
  "kernelspec": {
   "display_name": "Python 3",
   "language": "python",
   "name": "python3"
  },
  "language_info": {
   "codemirror_mode": {
    "name": "ipython",
    "version": 3
   },
   "file_extension": ".py",
   "mimetype": "text/x-python",
   "name": "python",
   "nbconvert_exporter": "python",
   "pygments_lexer": "ipython3",
   "version": "3.6.8"
  }
 },
 "nbformat": 4,
 "nbformat_minor": 2
}
