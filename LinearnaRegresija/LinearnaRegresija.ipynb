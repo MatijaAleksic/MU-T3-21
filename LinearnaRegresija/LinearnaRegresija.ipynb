{
 "cells": [
  {
   "cell_type": "code",
   "execution_count": 1,
   "id": "focused-beginning",
   "metadata": {},
   "outputs": [],
   "source": [
    "import sys\n",
    "import csv\n",
    "\n",
    "import matplotlib.pyplot as plt\n",
    "import numpy as np\n",
    "import pandas as pd"
   ]
  },
  {
   "cell_type": "code",
   "execution_count": 2,
   "id": "flush-graham",
   "metadata": {},
   "outputs": [],
   "source": [
    "#ucitavanje fajla i prikaz informacija\n",
    "df = pd.read_csv(\"train.csv\")\n",
    "#df"
   ]
  },
  {
   "cell_type": "code",
   "execution_count": 3,
   "id": "fancy-bubble",
   "metadata": {},
   "outputs": [
    {
     "data": {
      "text/plain": [
       "<matplotlib.collections.PathCollection at 0x20e8e318908>"
      ]
     },
     "execution_count": 3,
     "metadata": {},
     "output_type": "execute_result"
    },
    {
     "data": {
      "image/png": "[encoded data removed]",
      "text/plain": [
       "<Figure size 432x288 with 1 Axes>"
      ]
     },
     "metadata": {
      "needs_background": "light"
     },
     "output_type": "display_data"
    }
   ],
   "source": [
    "#Iscrtavanje linearne regresije\n",
    "%matplotlib inline\n",
    "plt.xlabel('Weight')\n",
    "plt.ylabel('Width')\n",
    "plt.scatter(df.Weight, df.Width, color='red', marker='+')"
   ]
  },
  {
   "cell_type": "code",
   "execution_count": 4,
   "id": "indonesian-budget",
   "metadata": {},
   "outputs": [],
   "source": [
    "#Normalizacija podataka\n",
    "def normalize(df):\n",
    "    result = df.copy()\n",
    "    for feature_name in df.columns:\n",
    "        max_value = df[feature_name].max()\n",
    "        min_value = df[feature_name].min()\n",
    "        result[feature_name] = (df[feature_name] - min_value) / (max_value - min_value)\n",
    "    return result"
   ]
  },
  {
   "cell_type": "code",
   "execution_count": 5,
   "id": "rubber-overall",
   "metadata": {},
   "outputs": [
    {
     "data": {
      "text/plain": [
       "<matplotlib.collections.PathCollection at 0x20e8e39bd30>"
      ]
     },
     "execution_count": 5,
     "metadata": {},
     "output_type": "execute_result"
    },
    {
     "data": {
      "image/png": "[encoded data removed]",
      "text/plain": [
       "<Figure size 432x288 with 1 Axes>"
      ]
     },
     "metadata": {
      "needs_background": "light"
     },
     "output_type": "display_data"
    }
   ],
   "source": [
    "#df = normalize(df)\n",
    "%matplotlib inline\n",
    "plt.xlabel('Weight')\n",
    "plt.ylabel('Width')\n",
    "plt.scatter(df.Weight, df.Width, color='red', marker='+')"
   ]
  },
  {
   "cell_type": "code",
   "execution_count": 6,
   "id": "cardiovascular-webmaster",
   "metadata": {},
   "outputs": [
    {
     "data": {
      "image/png": "[encoded data removed]",
      "text/plain": [
       "<Figure size 432x288 with 1 Axes>"
      ]
     },
     "metadata": {
      "needs_background": "light"
     },
     "output_type": "display_data"
    },
    {
     "data": {
      "text/html": [
       "<div>\n",
       "<style scoped>\n",
       "    .dataframe tbody tr th:only-of-type {\n",
       "        vertical-align: middle;\n",
       "    }\n",
       "\n",
       "    .dataframe tbody tr th {\n",
       "        vertical-align: top;\n",
       "    }\n",
       "\n",
       "    .dataframe thead th {\n",
       "        text-align: right;\n",
       "    }\n",
       "</style>\n",
       "<table border=\"1\" class=\"dataframe\">\n",
       "  <thead>\n",
       "    <tr style=\"text-align: right;\">\n",
       "      <th></th>\n",
       "      <th>Weight</th>\n",
       "      <th>Width</th>\n",
       "    </tr>\n",
       "  </thead>\n",
       "  <tbody>\n",
       "    <tr>\n",
       "      <th>count</th>\n",
       "      <td>133.000000</td>\n",
       "      <td>133.000000</td>\n",
       "    </tr>\n",
       "    <tr>\n",
       "      <th>mean</th>\n",
       "      <td>372.796241</td>\n",
       "      <td>4.550589</td>\n",
       "    </tr>\n",
       "    <tr>\n",
       "      <th>std</th>\n",
       "      <td>350.058069</td>\n",
       "      <td>1.704677</td>\n",
       "    </tr>\n",
       "    <tr>\n",
       "      <th>min</th>\n",
       "      <td>0.000000</td>\n",
       "      <td>1.148400</td>\n",
       "    </tr>\n",
       "    <tr>\n",
       "      <th>25%</th>\n",
       "      <td>115.000000</td>\n",
       "      <td>3.410400</td>\n",
       "    </tr>\n",
       "    <tr>\n",
       "      <th>50%</th>\n",
       "      <td>265.000000</td>\n",
       "      <td>4.335000</td>\n",
       "    </tr>\n",
       "    <tr>\n",
       "      <th>75%</th>\n",
       "      <td>575.000000</td>\n",
       "      <td>6.018000</td>\n",
       "    </tr>\n",
       "    <tr>\n",
       "      <th>max</th>\n",
       "      <td>1650.000000</td>\n",
       "      <td>8.250000</td>\n",
       "    </tr>\n",
       "  </tbody>\n",
       "</table>\n",
       "</div>"
      ],
      "text/plain": [
       "            Weight       Width\n",
       "count   133.000000  133.000000\n",
       "mean    372.796241    4.550589\n",
       "std     350.058069    1.704677\n",
       "min       0.000000    1.148400\n",
       "25%     115.000000    3.410400\n",
       "50%     265.000000    4.335000\n",
       "75%     575.000000    6.018000\n",
       "max    1650.000000    8.250000"
      ]
     },
     "execution_count": 6,
     "metadata": {},
     "output_type": "execute_result"
    }
   ],
   "source": [
    "#Boxplot da se vide outlieri\n",
    "df.plot(kind='box')\n",
    "plt.show()\n",
    "\n",
    "df.describe()"
   ]
  },
  {
   "cell_type": "code",
   "execution_count": 7,
   "id": "afraid-baseball",
   "metadata": {},
   "outputs": [
    {
     "name": "stdout",
     "output_type": "stream",
     "text": [
      "115.0\n",
      "575.0\n",
      "3.4104\n",
      "6.018\n",
      "460.0\n",
      "2.6075999999999997\n",
      "1265.0\n",
      "-575.0\n",
      "9.9294\n",
      "-0.5009999999999994\n"
     ]
    }
   ],
   "source": [
    "#PRONAZENJE PARAMETARA ZA OUTLIERE\n",
    "# df.describe()\n",
    "\n",
    "Q1 = df.describe(include='all').loc['25%']\n",
    "# Q1['Weight']\n",
    "# Q1['Width']\n",
    "Q3 = df.describe(include='all').loc['75%']\n",
    "\n",
    "IQR_Weight = Q3[\"Weight\"] - Q1['Weight']\n",
    "IQR_Width = Q3[\"Width\"] - Q1['Width']\n",
    "\n",
    "#Racunanje whiskera gore i dole\n",
    "UP_Whisker_Weigth = Q3[\"Weight\"] + (1.5 *  IQR_Weight)\n",
    "DOWN_Whisker_Weigth = Q1[\"Weight\"] - (1.5 *  IQR_Weight)\n",
    "\n",
    "UP_Whisker_Width = Q3[\"Width\"] + (1.5 *  IQR_Width)\n",
    "DOWN_Whisker_Width = Q1[\"Width\"] - (1.5 *  IQR_Width)\n",
    "\n",
    "\n",
    "print(Q1['Weight'])\n",
    "print(Q3['Weight'])\n",
    "\n",
    "print(Q1['Width'])\n",
    "print(Q3['Width'])\n",
    "\n",
    "print(IQR_Weight)\n",
    "print(IQR_Width)\n",
    "\n",
    "print(UP_Whisker_Weigth)\n",
    "print(DOWN_Whisker_Weigth)\n",
    "print(UP_Whisker_Width)\n",
    "print(DOWN_Whisker_Width)"
   ]
  },
  {
   "cell_type": "code",
   "execution_count": 8,
   "id": "matched-refrigerator",
   "metadata": {},
   "outputs": [],
   "source": [
    "def takeout_outliers(df, up_w, down_w, up_wi, down_wi):\n",
    "    indexes = []\n",
    "    counter = 0\n",
    "\n",
    "    for i in df.Weight:\n",
    "        if i > up_w or i < down_w:\n",
    "            if counter not in indexes:\n",
    "                indexes.append(counter)\n",
    "        counter += 1\n",
    "\n",
    "    couter = 0\n",
    "    for i in df.Width:\n",
    "        if i > up_wi or i < down_wi:\n",
    "            if counter not in indexes:\n",
    "                indexes.append(counter)\n",
    "        counter += 1\n",
    "    \n",
    "\n",
    "    data = df.drop(labels=indexes, axis=0)\n",
    "    return data\n",
    "        "
   ]
  },
  {
   "cell_type": "code",
   "execution_count": 9,
   "id": "bronze-clock",
   "metadata": {},
   "outputs": [
    {
     "data": {
      "text/plain": [
       "<matplotlib.collections.PathCollection at 0x20e8e3ee6a0>"
      ]
     },
     "execution_count": 9,
     "metadata": {},
     "output_type": "execute_result"
    },
    {
     "data": {
      "image/png": "[encoded data removed]",
      "text/plain": [
       "<Figure size 432x288 with 1 Axes>"
      ]
     },
     "metadata": {
      "needs_background": "light"
     },
     "output_type": "display_data"
    }
   ],
   "source": [
    "#IZBACIVANJE OUTLIERA\n",
    "df = takeout_outliers(df,UP_Whisker_Weigth,DOWN_Whisker_Weigth,UP_Whisker_Width,DOWN_Whisker_Width)\n",
    "\n",
    "%matplotlib inline\n",
    "plt.xlabel('Weight')\n",
    "plt.ylabel('Width')\n",
    "plt.scatter(df.Weight, df.Width, color='red', marker='+')\n"
   ]
  },
  {
   "cell_type": "code",
   "execution_count": 10,
   "id": "respected-diameter",
   "metadata": {},
   "outputs": [
    {
     "name": "stdout",
     "output_type": "stream",
     "text": [
      "x_mean = 344.4761538461539\n",
      "y_mean = 4.503541538461536\n"
     ]
    }
   ],
   "source": [
    "#Pronalazenje x meana\n",
    "x_mean = 0\n",
    "sum_x = 0\n",
    "for w in df.Weight:\n",
    "    sum_x += w\n",
    "    \n",
    "x_mean = sum_x / df.Weight.size\n",
    "\n",
    "#Pronalazenje y meana\n",
    "y_mean = 0\n",
    "sum_y = 0\n",
    "for w in df.Width:\n",
    "    sum_y += w\n",
    "    \n",
    "y_mean = sum_y / df.Width.size\n",
    "print(\"x_mean = \" + str(x_mean))\n",
    "print(\"y_mean = \" + str(y_mean))\n"
   ]
  },
  {
   "cell_type": "code",
   "execution_count": 11,
   "id": "bibliographic-reservation",
   "metadata": {},
   "outputs": [
    {
     "name": "stdout",
     "output_type": "stream",
     "text": [
      "Suma (x - x_mean) * (y - y_mean) = 50967.14339876922\n",
      "Suma (x - x_mean)^2 = 11548015.27607692\n",
      "Suma (y - y_mean)^2 = 369.6346465756924\n",
      "Vrijednost r = 0.7801000078336259\n",
      "Vrijednost Sy = 1.6927447702403071\n",
      "Vrijednost Sx = 299.198092012904\n",
      "Vrijednost b = 0.004413498092988645\n",
      "Vrijednost a = 2.983196690381473\n",
      "\n",
      " Funkcija izgleda ovako: \n",
      " y = 2.983196690381473 + 0.004413498092988645 * x\n"
     ]
    }
   ],
   "source": [
    "#Broj elemenata\n",
    "n = df.Weight.size\n",
    "\n",
    "#pravljenje x - x_mean liste\n",
    "x_xmean = []\n",
    "for x in df.Weight:\n",
    "    x_xmean.append(x - x_mean)\n",
    "    \n",
    "#pravljenje y - y_mean liste\n",
    "y_ymean = []\n",
    "for y in df.Width:\n",
    "    y_ymean.append(y - y_mean)\n",
    "\n",
    "\n",
    "#racunanje sume od (x - x_mean) * (y - y_mean)\n",
    "sum_xxmean_yymean = 0\n",
    "for i in range(len(x_xmean)):\n",
    "    mult = x_xmean[i] * y_ymean[i]\n",
    "    sum_xxmean_yymean += mult\n",
    "\n",
    "print(\"Suma (x - x_mean) * (y - y_mean) = \" + str(sum_xxmean_yymean))\n",
    "    \n",
    "    \n",
    "#racunanje sume (x - x_mean)^2\n",
    "x_kvad_suma = 0\n",
    "for x in x_xmean:\n",
    "    x_kvad_suma += x * x\n",
    "\n",
    "#racunanje sume (y - y_mean)^2\n",
    "y_kvad_suma = 0\n",
    "for y in y_ymean:\n",
    "    y_kvad_suma += y * y\n",
    "\n",
    "print(\"Suma (x - x_mean)^2 = \" + str(x_kvad_suma))\n",
    "print(\"Suma (y - y_mean)^2 = \" + str(y_kvad_suma))\n",
    "\n",
    "#racunaje vrijednosti r\n",
    "r = sum_xxmean_yymean / np.sqrt(x_kvad_suma * y_kvad_suma)\n",
    "print(\"Vrijednost r = \" + str(r))\n",
    "\n",
    "\n",
    "Sy = np.sqrt(y_kvad_suma/(n-1))\n",
    "print(\"Vrijednost Sy = \" + str(Sy))\n",
    "\n",
    "Sx = np.sqrt(x_kvad_suma/(n-1))\n",
    "print(\"Vrijednost Sx = \" + str(Sx))\n",
    "\n",
    "b = r * (Sy / Sx)\n",
    "print(\"Vrijednost b = \" + str(b))\n",
    "\n",
    "a = y_mean - b * x_mean\n",
    "print(\"Vrijednost a = \" + str(a))\n",
    "\n",
    "\n",
    "print(\"\\n Funkcija izgleda ovako: \\n y = \" + str(a) + \" + \" + str(b) + \" * x\")"
   ]
  },
  {
   "cell_type": "code",
   "execution_count": 12,
   "id": "worse-nature",
   "metadata": {},
   "outputs": [
    {
     "data": {
      "text/plain": [
       "[<matplotlib.lines.Line2D at 0x20e8e416668>]"
      ]
     },
     "execution_count": 12,
     "metadata": {},
     "output_type": "execute_result"
    },
    {
     "data": {
      "image/png": "[encoded data removed]",
      "text/plain": [
       "<Figure size 432x288 with 1 Axes>"
      ]
     },
     "metadata": {
      "needs_background": "light"
     },
     "output_type": "display_data"
    }
   ],
   "source": [
    "#ISCRTAVANJE LINIJE LINEARNE REGRESIJE\n",
    "y = []\n",
    "for x in df.Weight:\n",
    "    y.append(a + b * x)\n",
    "    \n",
    "plt.scatter(df.Weight, df.Width, color='red', marker='+')\n",
    "plt.plot(df.Weight, y, color='green',linewidth=2, markersize=12)"
   ]
  },
  {
   "cell_type": "code",
   "execution_count": 13,
   "id": "apart-shower",
   "metadata": {},
   "outputs": [],
   "source": [
    "#Racunanje RMSE\n",
    "def RMSE(n, b, x, y):\n",
    "    suma = 0\n",
    "    for i in range(0, n):\n",
    "        suma += (b * y.iloc[i] - x.iloc[i])**2\n",
    "    return np.sqrt(suma/n)\n",
    "        "
   ]
  },
  {
   "cell_type": "code",
   "execution_count": 14,
   "id": "pressing-grace",
   "metadata": {},
   "outputs": [
    {
     "data": {
      "text/plain": [
       "455.4970397469716"
      ]
     },
     "execution_count": 14,
     "metadata": {},
     "output_type": "execute_result"
    }
   ],
   "source": [
    "RMSE(n,b,df.Weight, df.Width)"
   ]
  },
  {
   "cell_type": "code",
   "execution_count": null,
   "id": "supposed-isolation",
   "metadata": {},
   "outputs": [],
   "source": []
  }
 ],
 "metadata": {
  "kernelspec": {
   "display_name": "Python 3.5.5",
   "language": "python",
   "name": "linearnaregresija"
  },
  "language_info": {
   "codemirror_mode": {
    "name": "ipython",
    "version": 3
   },
   "file_extension": ".py",
   "mimetype": "text/x-python",
   "name": "python",
   "nbconvert_exporter": "python",
   "pygments_lexer": "ipython3",
   "version": "3.5.5"
  }
 },
 "nbformat": 4,
 "nbformat_minor": 5
}
